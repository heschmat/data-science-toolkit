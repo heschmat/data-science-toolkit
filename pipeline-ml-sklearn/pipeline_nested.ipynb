{
 "cells": [
  {
   "cell_type": "code",
   "execution_count": 1,
   "id": "satisfied-syntax",
   "metadata": {},
   "outputs": [],
   "source": [
    "import numpy as np\n",
    "import pandas as pd\n",
    "import matplotlib.pyplot as plt\n",
    "plt.style.use('fivethirtyeight')"
   ]
  },
  {
   "cell_type": "code",
   "execution_count": null,
   "id": "naval-strain",
   "metadata": {},
   "outputs": [],
   "source": []
  },
  {
   "cell_type": "code",
   "execution_count": 2,
   "id": "judicial-spirit",
   "metadata": {},
   "outputs": [],
   "source": [
    "from sklearn import datasets\n",
    "iris = datasets.load_iris()"
   ]
  },
  {
   "cell_type": "code",
   "execution_count": 27,
   "id": "weird-costume",
   "metadata": {},
   "outputs": [],
   "source": [
    "from sklearn.cluster import KMeans\n",
    "from sklearn.tree import DecisionTreeClassifier, plot_tree"
   ]
  },
  {
   "cell_type": "code",
   "execution_count": 4,
   "id": "statewide-spotlight",
   "metadata": {},
   "outputs": [],
   "source": [
    "from sklearn.model_selection import train_test_split"
   ]
  },
  {
   "cell_type": "code",
   "execution_count": 86,
   "id": "raised-cannon",
   "metadata": {},
   "outputs": [],
   "source": [
    "X = pd.DataFrame(iris.data, columns= iris.feature_names)\n",
    "y = iris.target"
   ]
  },
  {
   "cell_type": "code",
   "execution_count": 87,
   "id": "surgical-edinburgh",
   "metadata": {},
   "outputs": [],
   "source": [
    "X_train, X_test, y_train, y_test = train_test_split(X, y, test_size=0.33, random_state=42)"
   ]
  },
  {
   "cell_type": "code",
   "execution_count": 7,
   "id": "soviet-collaboration",
   "metadata": {},
   "outputs": [
    {
     "data": {
      "text/plain": [
       "dict_keys(['data', 'target', 'frame', 'target_names', 'DESCR', 'feature_names', 'filename'])"
      ]
     },
     "execution_count": 7,
     "metadata": {},
     "output_type": "execute_result"
    }
   ],
   "source": [
    "iris.keys()"
   ]
  },
  {
   "cell_type": "code",
   "execution_count": 8,
   "id": "lightweight-limit",
   "metadata": {
    "scrolled": true
   },
   "outputs": [
    {
     "data": {
      "text/html": [
       "<div>\n",
       "<style scoped>\n",
       "    .dataframe tbody tr th:only-of-type {\n",
       "        vertical-align: middle;\n",
       "    }\n",
       "\n",
       "    .dataframe tbody tr th {\n",
       "        vertical-align: top;\n",
       "    }\n",
       "\n",
       "    .dataframe thead th {\n",
       "        text-align: right;\n",
       "    }\n",
       "</style>\n",
       "<table border=\"1\" class=\"dataframe\">\n",
       "  <thead>\n",
       "    <tr style=\"text-align: right;\">\n",
       "      <th></th>\n",
       "      <th>sepal length (cm)</th>\n",
       "      <th>sepal width (cm)</th>\n",
       "      <th>petal length (cm)</th>\n",
       "      <th>petal width (cm)</th>\n",
       "    </tr>\n",
       "  </thead>\n",
       "  <tbody>\n",
       "    <tr>\n",
       "      <th>96</th>\n",
       "      <td>5.7</td>\n",
       "      <td>2.9</td>\n",
       "      <td>4.2</td>\n",
       "      <td>1.3</td>\n",
       "    </tr>\n",
       "    <tr>\n",
       "      <th>105</th>\n",
       "      <td>7.6</td>\n",
       "      <td>3.0</td>\n",
       "      <td>6.6</td>\n",
       "      <td>2.1</td>\n",
       "    </tr>\n",
       "    <tr>\n",
       "      <th>66</th>\n",
       "      <td>5.6</td>\n",
       "      <td>3.0</td>\n",
       "      <td>4.5</td>\n",
       "      <td>1.5</td>\n",
       "    </tr>\n",
       "  </tbody>\n",
       "</table>\n",
       "</div>"
      ],
      "text/plain": [
       "     sepal length (cm)  sepal width (cm)  petal length (cm)  petal width (cm)\n",
       "96                 5.7               2.9                4.2               1.3\n",
       "105                7.6               3.0                6.6               2.1\n",
       "66                 5.6               3.0                4.5               1.5"
      ]
     },
     "execution_count": 8,
     "metadata": {},
     "output_type": "execute_result"
    }
   ],
   "source": [
    "X_train[:3]"
   ]
  },
  {
   "cell_type": "code",
   "execution_count": 9,
   "id": "burning-package",
   "metadata": {},
   "outputs": [
    {
     "data": {
      "text/plain": [
       "(array([0, 1, 2]), array([31, 35, 34], dtype=int64))"
      ]
     },
     "execution_count": 9,
     "metadata": {},
     "output_type": "execute_result"
    }
   ],
   "source": [
    "np.unique(y_train, return_counts= True)"
   ]
  },
  {
   "cell_type": "code",
   "execution_count": 10,
   "id": "disturbed-eagle",
   "metadata": {},
   "outputs": [],
   "source": [
    "from sklearn.impute import SimpleImputer\n",
    "from sklearn.preprocessing import OneHotEncoder, StandardScaler\n",
    "from sklearn.pipeline import Pipeline, FeatureUnion\n",
    "from sklearn.compose import ColumnTransformer\n",
    "from sklearn.linear_model import LinearRegression\n"
   ]
  },
  {
   "cell_type": "code",
   "execution_count": 11,
   "id": "referenced-novel",
   "metadata": {},
   "outputs": [
    {
     "data": {
      "text/plain": [
       "['sepal length (cm)',\n",
       " 'sepal width (cm)',\n",
       " 'petal length (cm)',\n",
       " 'petal width (cm)']"
      ]
     },
     "execution_count": 11,
     "metadata": {},
     "output_type": "execute_result"
    }
   ],
   "source": [
    "X_train.columns.values[:4].tolist()"
   ]
  },
  {
   "cell_type": "code",
   "execution_count": 12,
   "id": "complex-headquarters",
   "metadata": {},
   "outputs": [
    {
     "data": {
      "text/plain": [
       "Index(['sepal length (cm)', 'sepal width (cm)', 'petal length (cm)',\n",
       "       'petal width (cm)'],\n",
       "      dtype='object')"
      ]
     },
     "execution_count": 12,
     "metadata": {},
     "output_type": "execute_result"
    }
   ],
   "source": [
    "X.columns"
   ]
  },
  {
   "cell_type": "code",
   "execution_count": 61,
   "id": "sufficient-stewart",
   "metadata": {},
   "outputs": [],
   "source": [
    "from sklearn.base import BaseEstimator, TransformerMixin\n",
    "\n",
    "class GetSepalClusters(BaseEstimator, TransformerMixin):\n",
    "    \"\"\"Determine if a text starts with a verb.\"\"\"\n",
    "\n",
    "    def get_cluster(self, X):\n",
    "        print(X.columns, '=========================')\n",
    "        X_scaled = X.iloc[:, :2].copy()\n",
    "        X_scaled = (X_scaled - X_scaled.mean(axis=0)) / X_scaled.std(axis=0)\n",
    "        kmeans = KMeans(n_clusters= 3, n_init= 10, random_state=0).fit(X_scaled)\n",
    "        preds_cluster = kmeans.predict(X_scaled)\n",
    "        preds_cluster = [str(elm) for elm in preds_cluster]\n",
    "        return preds_cluster\n",
    "\n",
    "    def fit(self, X, y = None):\n",
    "        return self\n",
    "\n",
    "    def transform(self, X):\n",
    "        res = self.get_cluster(X)\n",
    "        df = pd.DataFrame({'sepal_cluster': res})\n",
    "        print(f'Generated Clusters: ===============\\n {df.columns}')\n",
    "        return df"
   ]
  },
  {
   "cell_type": "code",
   "execution_count": 65,
   "id": "periodic-lancaster",
   "metadata": {},
   "outputs": [],
   "source": [
    "class ShowColumns(BaseEstimator, TransformerMixin):\n",
    "    \"\"\"Determine if a text starts with a verb.\"\"\"\n",
    "\n",
    "    def fit(self, X, y = None):\n",
    "        return self\n",
    "    def transform(self, X):\n",
    "        print('SHOW', '=' * 50)\n",
    "        print(X[:2])\n",
    "        print('=' * 50)\n",
    "        return X"
   ]
  },
  {
   "cell_type": "code",
   "execution_count": 66,
   "id": "seasonal-dinner",
   "metadata": {},
   "outputs": [
    {
     "name": "stdout",
     "output_type": "stream",
     "text": [
      "Index(['sepal length (cm)', 'sepal width (cm)', 'petal length (cm)',\n",
      "       'petal width (cm)'],\n",
      "      dtype='object') =========================\n",
      "Generated Clusters: ===============\n",
      " Index(['sepal_cluster'], dtype='object')\n",
      "SHOW ==================================================\n",
      "  (0, 0)\t-0.1383560330969935\n",
      "  (0, 1)\t-0.26550845385878896\n",
      "  (0, 2)\t0.2222907219123989\n",
      "  (0, 3)\t0.10894943054727887\n",
      "  (0, 4)\t1.0\n",
      "  (1, 0)\t2.1475262528533645\n",
      "  (1, 1)\t-0.026311648580602864\n",
      "  (1, 2)\t1.611607733864892\n",
      "  (1, 3)\t1.1849931890389227\n",
      "  (1, 6)\t1.0\n",
      "==================================================\n"
     ]
    },
    {
     "data": {
      "text/plain": [
       "Pipeline(steps=[('gen_features',\n",
       "                 FeatureUnion(transformer_list=[('transformer_num',\n",
       "                                                 Pipeline(steps=[('imputer',\n",
       "                                                                  SimpleImputer(strategy='median')),\n",
       "                                                                 ('scaler',\n",
       "                                                                  StandardScaler())])),\n",
       "                                                ('cluster_sepal',\n",
       "                                                 Pipeline(steps=[('get_cluster',\n",
       "                                                                  GetSepalClusters()),\n",
       "                                                                 ('transformer_cluster',\n",
       "                                                                  Pipeline(steps=[('imputer',\n",
       "                                                                                   SimpleImputer(fill_value='unknown',\n",
       "                                                                                                 strategy='constant')),\n",
       "                                                                                  ('onehot',\n",
       "                                                                                   OneHotEncoder(handle_unknown='ignore'))]))]))])),\n",
       "                ('show_cols', ShowColumns()),\n",
       "                ('classifier', DecisionTreeClassifier())])"
      ]
     },
     "execution_count": 66,
     "metadata": {},
     "output_type": "execute_result"
    }
   ],
   "source": [
    "\n",
    "\n",
    "cols_num = ['sepal length (cm)',\n",
    " 'sepal width (cm)',\n",
    " 'petal length (cm)',\n",
    " 'petal width (cm)']\n",
    "transformer_num = Pipeline(steps=[\n",
    "    ('imputer', SimpleImputer(strategy='median')),\n",
    "    ('scaler', StandardScaler())])\n",
    "\n",
    "cols_cat = ['sepal_cluster']\n",
    "transformer_cat = Pipeline(steps=[\n",
    "    ('imputer', SimpleImputer(strategy='constant', fill_value= 'unknown')),\n",
    "    ('onehot', OneHotEncoder(handle_unknown= 'ignore'))])\n",
    "\n",
    "transformer = ColumnTransformer(transformers= [\n",
    "    ('tnum', transformer_num, cols_num),\n",
    "    ('tcat', transformer_cat, cols_cat)\n",
    "])\n",
    "\n",
    "cls = DecisionTreeClassifier()\n",
    "\n",
    "pipe = Pipeline(steps= [\n",
    "    ('gen_features', FeatureUnion(transformer_list= [\n",
    "        ('transformer_num', transformer_num),\n",
    "        ('cluster_sepal', Pipeline(steps= [\n",
    "            ('get_cluster', GetSepalClusters()),\n",
    "            ('transformer_cluster', transformer_cat)\n",
    "        ]))\n",
    "    ])),\n",
    "    ('show_cols', ShowColumns()),\n",
    "    ('classifier',  cls)\n",
    "])\n",
    "\n",
    "pipe.fit(X_train, y_train)\n",
    "\n"
   ]
  },
  {
   "cell_type": "code",
   "execution_count": 67,
   "id": "surprised-ground",
   "metadata": {},
   "outputs": [
    {
     "name": "stdout",
     "output_type": "stream",
     "text": [
      "Index(['sepal length (cm)', 'sepal width (cm)', 'petal length (cm)',\n",
      "       'petal width (cm)'],\n",
      "      dtype='object') =========================\n",
      "Generated Clusters: ===============\n",
      " Index(['sepal_cluster'], dtype='object')\n",
      "SHOW ==================================================\n",
      "  (0, 0)\t0.3428823428925551\n",
      "  (0, 1)\t-0.5047052591369751\n",
      "  (0, 2)\t0.5117317660691684\n",
      "  (0, 3)\t-0.02555603926417671\n",
      "  (0, 4)\t1.0\n",
      "  (1, 0)\t-0.1383560330969935\n",
      "  (1, 1)\t1.887262793644884\n",
      "  (1, 2)\t-1.2249144988714487\n",
      "  (1, 3)\t-1.236105267567276\n",
      "  (1, 6)\t1.0\n",
      "==================================================\n"
     ]
    }
   ],
   "source": [
    "preds_y = pipe.predict(X_test)"
   ]
  },
  {
   "cell_type": "code",
   "execution_count": 68,
   "id": "brutal-taxation",
   "metadata": {},
   "outputs": [
    {
     "data": {
      "text/plain": [
       "0.98"
      ]
     },
     "execution_count": 68,
     "metadata": {},
     "output_type": "execute_result"
    }
   ],
   "source": [
    "(preds_y == y_test).mean()"
   ]
  },
  {
   "cell_type": "code",
   "execution_count": 88,
   "id": "covered-investing",
   "metadata": {},
   "outputs": [
    {
     "data": {
      "text/plain": [
       "Index(['sepal length (cm)', 'sepal width (cm)', 'petal length (cm)',\n",
       "       'petal width (cm)'],\n",
       "      dtype='object')"
      ]
     },
     "execution_count": 88,
     "metadata": {},
     "output_type": "execute_result"
    }
   ],
   "source": [
    "feats = X_train.columns\n",
    "feats"
   ]
  },
  {
   "cell_type": "code",
   "execution_count": 89,
   "id": "collect-advance",
   "metadata": {},
   "outputs": [],
   "source": [
    "imputer_num = SimpleImputer(strategy= 'median')\n",
    "X_train = pd.DataFrame(imputer_num.fit_transform(X_train))\n",
    "X_train.columns = feats\n",
    "\n",
    "scaler = StandardScaler()\n",
    "X_train = pd.DataFrame(scaler.fit_transform(X_train))\n",
    "X_train.columns = feats"
   ]
  },
  {
   "cell_type": "code",
   "execution_count": 91,
   "id": "designed-solid",
   "metadata": {},
   "outputs": [
    {
     "data": {
      "text/html": [
       "<div>\n",
       "<style scoped>\n",
       "    .dataframe tbody tr th:only-of-type {\n",
       "        vertical-align: middle;\n",
       "    }\n",
       "\n",
       "    .dataframe tbody tr th {\n",
       "        vertical-align: top;\n",
       "    }\n",
       "\n",
       "    .dataframe thead th {\n",
       "        text-align: right;\n",
       "    }\n",
       "</style>\n",
       "<table border=\"1\" class=\"dataframe\">\n",
       "  <thead>\n",
       "    <tr style=\"text-align: right;\">\n",
       "      <th></th>\n",
       "      <th>sepal length (cm)</th>\n",
       "      <th>sepal width (cm)</th>\n",
       "      <th>petal length (cm)</th>\n",
       "      <th>petal width (cm)</th>\n",
       "    </tr>\n",
       "  </thead>\n",
       "  <tbody>\n",
       "    <tr>\n",
       "      <th>0</th>\n",
       "      <td>-0.138356</td>\n",
       "      <td>-0.265508</td>\n",
       "      <td>0.222291</td>\n",
       "      <td>0.108949</td>\n",
       "    </tr>\n",
       "    <tr>\n",
       "      <th>1</th>\n",
       "      <td>2.147526</td>\n",
       "      <td>-0.026312</td>\n",
       "      <td>1.611608</td>\n",
       "      <td>1.184993</td>\n",
       "    </tr>\n",
       "    <tr>\n",
       "      <th>2</th>\n",
       "      <td>-0.258666</td>\n",
       "      <td>-0.026312</td>\n",
       "      <td>0.395955</td>\n",
       "      <td>0.377960</td>\n",
       "    </tr>\n",
       "  </tbody>\n",
       "</table>\n",
       "</div>"
      ],
      "text/plain": [
       "   sepal length (cm)  sepal width (cm)  petal length (cm)  petal width (cm)\n",
       "0          -0.138356         -0.265508           0.222291          0.108949\n",
       "1           2.147526         -0.026312           1.611608          1.184993\n",
       "2          -0.258666         -0.026312           0.395955          0.377960"
      ]
     },
     "execution_count": 91,
     "metadata": {},
     "output_type": "execute_result"
    }
   ],
   "source": [
    "X_train.head(3)"
   ]
  },
  {
   "cell_type": "code",
   "execution_count": 98,
   "id": "voluntary-bradley",
   "metadata": {},
   "outputs": [
    {
     "name": "stdout",
     "output_type": "stream",
     "text": [
      "Index(['sepal length (cm)', 'sepal width (cm)', 'petal length (cm)',\n",
      "       'petal width (cm)'],\n",
      "      dtype='object') =========================\n",
      "Generated Clusters: ===============\n",
      " Index(['sepal_cluster'], dtype='object')\n"
     ]
    }
   ],
   "source": [
    "X_cluster = GetSepalClusters().fit_transform(X)"
   ]
  },
  {
   "cell_type": "code",
   "execution_count": 99,
   "id": "bridal-newark",
   "metadata": {},
   "outputs": [
    {
     "data": {
      "text/html": [
       "<div>\n",
       "<style scoped>\n",
       "    .dataframe tbody tr th:only-of-type {\n",
       "        vertical-align: middle;\n",
       "    }\n",
       "\n",
       "    .dataframe tbody tr th {\n",
       "        vertical-align: top;\n",
       "    }\n",
       "\n",
       "    .dataframe thead th {\n",
       "        text-align: right;\n",
       "    }\n",
       "</style>\n",
       "<table border=\"1\" class=\"dataframe\">\n",
       "  <thead>\n",
       "    <tr style=\"text-align: right;\">\n",
       "      <th></th>\n",
       "      <th>sepal_cluster</th>\n",
       "    </tr>\n",
       "  </thead>\n",
       "  <tbody>\n",
       "    <tr>\n",
       "      <th>0</th>\n",
       "      <td>0</td>\n",
       "    </tr>\n",
       "    <tr>\n",
       "      <th>1</th>\n",
       "      <td>0</td>\n",
       "    </tr>\n",
       "    <tr>\n",
       "      <th>2</th>\n",
       "      <td>0</td>\n",
       "    </tr>\n",
       "    <tr>\n",
       "      <th>3</th>\n",
       "      <td>0</td>\n",
       "    </tr>\n",
       "    <tr>\n",
       "      <th>4</th>\n",
       "      <td>0</td>\n",
       "    </tr>\n",
       "  </tbody>\n",
       "</table>\n",
       "</div>"
      ],
      "text/plain": [
       "  sepal_cluster\n",
       "0             0\n",
       "1             0\n",
       "2             0\n",
       "3             0\n",
       "4             0"
      ]
     },
     "execution_count": 99,
     "metadata": {},
     "output_type": "execute_result"
    }
   ],
   "source": [
    "X_cluster.head()"
   ]
  },
  {
   "cell_type": "code",
   "execution_count": 100,
   "id": "opponent-single",
   "metadata": {},
   "outputs": [
    {
     "data": {
      "text/html": [
       "<div>\n",
       "<style scoped>\n",
       "    .dataframe tbody tr th:only-of-type {\n",
       "        vertical-align: middle;\n",
       "    }\n",
       "\n",
       "    .dataframe tbody tr th {\n",
       "        vertical-align: top;\n",
       "    }\n",
       "\n",
       "    .dataframe thead th {\n",
       "        text-align: right;\n",
       "    }\n",
       "</style>\n",
       "<table border=\"1\" class=\"dataframe\">\n",
       "  <thead>\n",
       "    <tr style=\"text-align: right;\">\n",
       "      <th></th>\n",
       "      <th>sepal length (cm)</th>\n",
       "      <th>sepal width (cm)</th>\n",
       "      <th>petal length (cm)</th>\n",
       "      <th>petal width (cm)</th>\n",
       "      <th>sepal_cluster</th>\n",
       "    </tr>\n",
       "  </thead>\n",
       "  <tbody>\n",
       "    <tr>\n",
       "      <th>0</th>\n",
       "      <td>-0.138356</td>\n",
       "      <td>-0.265508</td>\n",
       "      <td>0.222291</td>\n",
       "      <td>0.108949</td>\n",
       "      <td>0</td>\n",
       "    </tr>\n",
       "    <tr>\n",
       "      <th>1</th>\n",
       "      <td>2.147526</td>\n",
       "      <td>-0.026312</td>\n",
       "      <td>1.611608</td>\n",
       "      <td>1.184993</td>\n",
       "      <td>0</td>\n",
       "    </tr>\n",
       "    <tr>\n",
       "      <th>2</th>\n",
       "      <td>-0.258666</td>\n",
       "      <td>-0.026312</td>\n",
       "      <td>0.395955</td>\n",
       "      <td>0.377960</td>\n",
       "      <td>0</td>\n",
       "    </tr>\n",
       "    <tr>\n",
       "      <th>3</th>\n",
       "      <td>-0.860214</td>\n",
       "      <td>1.169672</td>\n",
       "      <td>-1.398579</td>\n",
       "      <td>-1.370611</td>\n",
       "      <td>0</td>\n",
       "    </tr>\n",
       "    <tr>\n",
       "      <th>4</th>\n",
       "      <td>2.267836</td>\n",
       "      <td>-0.504705</td>\n",
       "      <td>1.669496</td>\n",
       "      <td>1.050488</td>\n",
       "      <td>0</td>\n",
       "    </tr>\n",
       "  </tbody>\n",
       "</table>\n",
       "</div>"
      ],
      "text/plain": [
       "   sepal length (cm)  sepal width (cm)  petal length (cm)  petal width (cm)  \\\n",
       "0          -0.138356         -0.265508           0.222291          0.108949   \n",
       "1           2.147526         -0.026312           1.611608          1.184993   \n",
       "2          -0.258666         -0.026312           0.395955          0.377960   \n",
       "3          -0.860214          1.169672          -1.398579         -1.370611   \n",
       "4           2.267836         -0.504705           1.669496          1.050488   \n",
       "\n",
       "  sepal_cluster  \n",
       "0             0  \n",
       "1             0  \n",
       "2             0  \n",
       "3             0  \n",
       "4             0  "
      ]
     },
     "execution_count": 100,
     "metadata": {},
     "output_type": "execute_result"
    }
   ],
   "source": [
    "X_train = pd.concat([X_train, X_cluster], axis= 1)\n",
    "X_train.head()"
   ]
  },
  {
   "cell_type": "code",
   "execution_count": 101,
   "id": "sharing-worker",
   "metadata": {},
   "outputs": [
    {
     "data": {
      "text/plain": [
       "sepal length (cm)    float64\n",
       "sepal width (cm)     float64\n",
       "petal length (cm)    float64\n",
       "petal width (cm)     float64\n",
       "sepal_cluster         object\n",
       "dtype: object"
      ]
     },
     "execution_count": 101,
     "metadata": {},
     "output_type": "execute_result"
    }
   ],
   "source": [
    "X_train.dtypes"
   ]
  },
  {
   "cell_type": "code",
   "execution_count": 102,
   "id": "immune-condition",
   "metadata": {},
   "outputs": [
    {
     "data": {
      "text/plain": [
       "Index(['sepal length (cm)', 'sepal width (cm)', 'petal length (cm)',\n",
       "       'petal width (cm)', 'sepal_cluster'],\n",
       "      dtype='object')"
      ]
     },
     "execution_count": 102,
     "metadata": {},
     "output_type": "execute_result"
    }
   ],
   "source": [
    "feats = X_train.columns\n",
    "feats"
   ]
  },
  {
   "cell_type": "code",
   "execution_count": 103,
   "id": "growing-astrology",
   "metadata": {},
   "outputs": [],
   "source": [
    "imputer_cat = SimpleImputer(strategy= 'constant', fill_value= 'unknown')\n",
    "X_train = pd.DataFrame(imputer_num.fit_transform(X_train))\n",
    "X_train.columns = feats"
   ]
  },
  {
   "cell_type": "code",
   "execution_count": 104,
   "id": "thermal-control",
   "metadata": {},
   "outputs": [
    {
     "data": {
      "text/html": [
       "<div>\n",
       "<style scoped>\n",
       "    .dataframe tbody tr th:only-of-type {\n",
       "        vertical-align: middle;\n",
       "    }\n",
       "\n",
       "    .dataframe tbody tr th {\n",
       "        vertical-align: top;\n",
       "    }\n",
       "\n",
       "    .dataframe thead th {\n",
       "        text-align: right;\n",
       "    }\n",
       "</style>\n",
       "<table border=\"1\" class=\"dataframe\">\n",
       "  <thead>\n",
       "    <tr style=\"text-align: right;\">\n",
       "      <th></th>\n",
       "      <th>sepal length (cm)</th>\n",
       "      <th>sepal width (cm)</th>\n",
       "      <th>petal length (cm)</th>\n",
       "      <th>petal width (cm)</th>\n",
       "      <th>sepal_cluster</th>\n",
       "    </tr>\n",
       "  </thead>\n",
       "  <tbody>\n",
       "    <tr>\n",
       "      <th>0</th>\n",
       "      <td>-0.138356</td>\n",
       "      <td>-0.265508</td>\n",
       "      <td>0.222291</td>\n",
       "      <td>0.108949</td>\n",
       "      <td>0.0</td>\n",
       "    </tr>\n",
       "    <tr>\n",
       "      <th>1</th>\n",
       "      <td>2.147526</td>\n",
       "      <td>-0.026312</td>\n",
       "      <td>1.611608</td>\n",
       "      <td>1.184993</td>\n",
       "      <td>0.0</td>\n",
       "    </tr>\n",
       "  </tbody>\n",
       "</table>\n",
       "</div>"
      ],
      "text/plain": [
       "   sepal length (cm)  sepal width (cm)  petal length (cm)  petal width (cm)  \\\n",
       "0          -0.138356         -0.265508           0.222291          0.108949   \n",
       "1           2.147526         -0.026312           1.611608          1.184993   \n",
       "\n",
       "   sepal_cluster  \n",
       "0            0.0  \n",
       "1            0.0  "
      ]
     },
     "execution_count": 104,
     "metadata": {},
     "output_type": "execute_result"
    }
   ],
   "source": [
    "X_train.head(2)"
   ]
  },
  {
   "cell_type": "code",
   "execution_count": 105,
   "id": "resident-essay",
   "metadata": {},
   "outputs": [
    {
     "data": {
      "text/plain": [
       "['sepal_cluster']"
      ]
     },
     "execution_count": 105,
     "metadata": {},
     "output_type": "execute_result"
    }
   ],
   "source": [
    "cols_cat"
   ]
  },
  {
   "cell_type": "code",
   "execution_count": 109,
   "id": "literary-lobby",
   "metadata": {},
   "outputs": [],
   "source": [
    "transform_1hot = OneHotEncoder(handle_unknown= 'ignore', sparse= False)\n",
    "X1hot = pd.DataFrame(transform_1hot.fit_transform(X_train[cols_cat]))"
   ]
  },
  {
   "cell_type": "code",
   "execution_count": 114,
   "id": "neither-myanmar",
   "metadata": {},
   "outputs": [
    {
     "data": {
      "text/plain": [
       "{'categories': 'auto',\n",
       " 'sparse': False,\n",
       " 'dtype': numpy.float64,\n",
       " 'handle_unknown': 'ignore',\n",
       " 'drop': None,\n",
       " 'categories_': [array([0., 1., 2.])],\n",
       " 'drop_idx_': None}"
      ]
     },
     "execution_count": 114,
     "metadata": {},
     "output_type": "execute_result"
    }
   ],
   "source": [
    "transform_1hot.__dict__"
   ]
  },
  {
   "cell_type": "code",
   "execution_count": 115,
   "id": "bound-improvement",
   "metadata": {},
   "outputs": [
    {
     "data": {
      "text/plain": [
       "array(['sepal_cluster_0.0', 'sepal_cluster_1.0', 'sepal_cluster_2.0'],\n",
       "      dtype=object)"
      ]
     },
     "execution_count": 115,
     "metadata": {},
     "output_type": "execute_result"
    }
   ],
   "source": [
    "transform_1hot.get_feature_names(cols_cat)"
   ]
  },
  {
   "cell_type": "code",
   "execution_count": 116,
   "id": "swiss-function",
   "metadata": {},
   "outputs": [
    {
     "data": {
      "text/html": [
       "<div>\n",
       "<style scoped>\n",
       "    .dataframe tbody tr th:only-of-type {\n",
       "        vertical-align: middle;\n",
       "    }\n",
       "\n",
       "    .dataframe tbody tr th {\n",
       "        vertical-align: top;\n",
       "    }\n",
       "\n",
       "    .dataframe thead th {\n",
       "        text-align: right;\n",
       "    }\n",
       "</style>\n",
       "<table border=\"1\" class=\"dataframe\">\n",
       "  <thead>\n",
       "    <tr style=\"text-align: right;\">\n",
       "      <th></th>\n",
       "      <th>0</th>\n",
       "      <th>1</th>\n",
       "      <th>2</th>\n",
       "    </tr>\n",
       "  </thead>\n",
       "  <tbody>\n",
       "    <tr>\n",
       "      <th>0</th>\n",
       "      <td>1.0</td>\n",
       "      <td>0.0</td>\n",
       "      <td>0.0</td>\n",
       "    </tr>\n",
       "    <tr>\n",
       "      <th>1</th>\n",
       "      <td>1.0</td>\n",
       "      <td>0.0</td>\n",
       "      <td>0.0</td>\n",
       "    </tr>\n",
       "    <tr>\n",
       "      <th>2</th>\n",
       "      <td>1.0</td>\n",
       "      <td>0.0</td>\n",
       "      <td>0.0</td>\n",
       "    </tr>\n",
       "    <tr>\n",
       "      <th>3</th>\n",
       "      <td>1.0</td>\n",
       "      <td>0.0</td>\n",
       "      <td>0.0</td>\n",
       "    </tr>\n",
       "    <tr>\n",
       "      <th>4</th>\n",
       "      <td>1.0</td>\n",
       "      <td>0.0</td>\n",
       "      <td>0.0</td>\n",
       "    </tr>\n",
       "  </tbody>\n",
       "</table>\n",
       "</div>"
      ],
      "text/plain": [
       "     0    1    2\n",
       "0  1.0  0.0  0.0\n",
       "1  1.0  0.0  0.0\n",
       "2  1.0  0.0  0.0\n",
       "3  1.0  0.0  0.0\n",
       "4  1.0  0.0  0.0"
      ]
     },
     "execution_count": 116,
     "metadata": {},
     "output_type": "execute_result"
    }
   ],
   "source": [
    "X1hot.head()"
   ]
  },
  {
   "cell_type": "code",
   "execution_count": null,
   "id": "adopted-electronics",
   "metadata": {},
   "outputs": [],
   "source": []
  }
 ],
 "metadata": {
  "kernelspec": {
   "display_name": "Python 3",
   "language": "python",
   "name": "python3"
  },
  "language_info": {
   "codemirror_mode": {
    "name": "ipython",
    "version": 3
   },
   "file_extension": ".py",
   "mimetype": "text/x-python",
   "name": "python",
   "nbconvert_exporter": "python",
   "pygments_lexer": "ipython3",
   "version": "3.8.5"
  }
 },
 "nbformat": 4,
 "nbformat_minor": 5
}
