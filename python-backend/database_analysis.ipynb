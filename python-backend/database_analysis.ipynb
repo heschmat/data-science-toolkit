{
 "cells": [
  {
   "cell_type": "code",
   "execution_count": 1,
   "id": "gothic-horizontal",
   "metadata": {},
   "outputs": [],
   "source": [
    "from sqlalchemy import create_engine\n",
    "from sqlalchemy.orm import sessionmaker\n",
    "from database_setup import Base, Restaurant, MenuItem"
   ]
  },
  {
   "cell_type": "code",
   "execution_count": 2,
   "id": "secret-animal",
   "metadata": {},
   "outputs": [],
   "source": [
    "# create_engine() lets our program know which db we want to communicate with.\n",
    "engine = create_engine('sqlite:///restaurantmenu.db')"
   ]
  },
  {
   "cell_type": "code",
   "execution_count": 3,
   "id": "according-shanghai",
   "metadata": {},
   "outputs": [],
   "source": [
    "# Bind the engine with the Base class \n",
    "##i.e., makes the connection between class definitions & the corresponding tables in our db\n",
    "Base.metadata.bind = engine \n",
    "# Establish a communication between our code & the engine we just created.\n",
    "DBSession = sessionmaker(bind = engine)\n",
    "session = DBSession()"
   ]
  },
  {
   "cell_type": "code",
   "execution_count": null,
   "id": "included-moment",
   "metadata": {},
   "outputs": [],
   "source": []
  },
  {
   "cell_type": "code",
   "execution_count": 4,
   "id": "stone-formula",
   "metadata": {},
   "outputs": [
    {
     "data": {
      "text/plain": [
       "[<database_setup.Restaurant at 0x25b89806250>,\n",
       " <database_setup.Restaurant at 0x25b898062b0>,\n",
       " <database_setup.Restaurant at 0x25b89806520>,\n",
       " <database_setup.Restaurant at 0x25b898065b0>,\n",
       " <database_setup.Restaurant at 0x25b89806640>,\n",
       " <database_setup.Restaurant at 0x25b898066d0>,\n",
       " <database_setup.Restaurant at 0x25b89806760>,\n",
       " <database_setup.Restaurant at 0x25b898067f0>,\n",
       " <database_setup.Restaurant at 0x25b89806880>]"
      ]
     },
     "execution_count": 4,
     "metadata": {},
     "output_type": "execute_result"
    }
   ],
   "source": [
    "restaurants_list = session.query(Restaurant).all()\n",
    "restaurants_list"
   ]
  },
  {
   "cell_type": "code",
   "execution_count": 5,
   "id": "pleasant-participation",
   "metadata": {},
   "outputs": [
    {
     "name": "stdout",
     "output_type": "stream",
     "text": [
      "1 Urban Burger\n",
      "2 Super Stir Fry\n",
      "3 Panda Garden\n",
      "4 Thyme for That Vegetarian Cuisine \n",
      "5 Tony's Bistro\n",
      "6 Andala's\n",
      "7 Auntie Ann's Diner\n",
      "8 Cocina Y Amor\n",
      "9 State Bird Provisions\n"
     ]
    }
   ],
   "source": [
    "for restaurant in restaurants_list:\n",
    "    print(restaurant.id, restaurant.name)"
   ]
  },
  {
   "cell_type": "code",
   "execution_count": 6,
   "id": "supposed-neighborhood",
   "metadata": {},
   "outputs": [
    {
     "data": {
      "text/plain": [
       "<database_setup.MenuItem at 0x25b890e3a00>"
      ]
     },
     "execution_count": 6,
     "metadata": {},
     "output_type": "execute_result"
    }
   ],
   "source": [
    "menu = session.query(MenuItem).first()\n",
    "menu"
   ]
  },
  {
   "cell_type": "code",
   "execution_count": 7,
   "id": "soviet-plain",
   "metadata": {},
   "outputs": [
    {
     "data": {
      "text/plain": [
       "{'_sa_instance_state': <sqlalchemy.orm.state.InstanceState at 0x25b89822b20>,\n",
       " 'price': '$7.50',\n",
       " 'course': 'Entree',\n",
       " 'id': 1,\n",
       " 'restaurant_id': 1,\n",
       " 'description': 'Juicy grilled veggie patty with tomato mayo and lettuce',\n",
       " 'name': 'Veggie Burger'}"
      ]
     },
     "execution_count": 7,
     "metadata": {},
     "output_type": "execute_result"
    }
   ],
   "source": [
    "menu.__dict__"
   ]
  },
  {
   "cell_type": "code",
   "execution_count": null,
   "id": "cognitive-candle",
   "metadata": {},
   "outputs": [],
   "source": []
  }
 ],
 "metadata": {
  "kernelspec": {
   "display_name": "Python 3",
   "language": "python",
   "name": "python3"
  },
  "language_info": {
   "codemirror_mode": {
    "name": "ipython",
    "version": 3
   },
   "file_extension": ".py",
   "mimetype": "text/x-python",
   "name": "python",
   "nbconvert_exporter": "python",
   "pygments_lexer": "ipython3",
   "version": "3.8.5"
  }
 },
 "nbformat": 4,
 "nbformat_minor": 5
}
