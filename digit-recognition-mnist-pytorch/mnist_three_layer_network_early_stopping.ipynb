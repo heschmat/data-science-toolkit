{
 "cells": [
  {
   "cell_type": "markdown",
   "metadata": {},
   "source": [
    "# Three-Layer NN - MNIST"
   ]
  },
  {
   "cell_type": "markdown",
   "metadata": {},
   "source": [
    "The process will be broken down into the following steps:\n",
    "\n",
    "1. Load the data\n",
    "2. Define the network's architecture\n",
    "3. Train the model\n",
    "4. Evaluate the performance of the trained model on a test dataset!"
   ]
  },
  {
   "cell_type": "markdown",
   "metadata": {},
   "source": [
    "The key idea in this notebook is to use __validation set__ to monitor the generalization power of the learning algorithm; the final model will be selected based on how well it performs on the validation set, and not necessarily the model trained at the very last epoch."
   ]
  },
  {
   "cell_type": "code",
   "execution_count": null,
   "metadata": {},
   "outputs": [],
   "source": []
  },
  {
   "cell_type": "code",
   "execution_count": 1,
   "metadata": {},
   "outputs": [],
   "source": [
    "import numpy as np\n",
    "import matplotlib.pyplot as plt"
   ]
  },
  {
   "cell_type": "code",
   "execution_count": 2,
   "metadata": {},
   "outputs": [],
   "source": [
    "import torch\n",
    "\n",
    "import torch.nn as nn\n",
    "import torch.nn.functional as F"
   ]
  },
  {
   "cell_type": "code",
   "execution_count": 3,
   "metadata": {},
   "outputs": [],
   "source": [
    "from torchvision import datasets\n",
    "from torchvision.transforms import transforms"
   ]
  },
  {
   "cell_type": "code",
   "execution_count": 4,
   "metadata": {},
   "outputs": [],
   "source": [
    "from torch.utils.data.sampler import SubsetRandomSampler"
   ]
  },
  {
   "cell_type": "code",
   "execution_count": null,
   "metadata": {},
   "outputs": [],
   "source": []
  },
  {
   "cell_type": "code",
   "execution_count": 5,
   "metadata": {},
   "outputs": [],
   "source": [
    "transform = transforms.ToTensor()"
   ]
  },
  {
   "cell_type": "code",
   "execution_count": 6,
   "metadata": {},
   "outputs": [],
   "source": [
    "# Number of subprocesses to use for data loading\n",
    "# Set to zero, if no parallelization required.\n",
    "n_workers = 0\n",
    "\n",
    "# Number of samples to load per batch\n",
    "batch_size = 32\n",
    "\n",
    "# Percentage of  the training data to be used as validation set\n",
    "valid_size = .2"
   ]
  },
  {
   "cell_type": "code",
   "execution_count": null,
   "metadata": {},
   "outputs": [],
   "source": []
  },
  {
   "cell_type": "code",
   "execution_count": 7,
   "metadata": {},
   "outputs": [],
   "source": [
    "# Select the training and test dataset\n",
    "data_train = datasets.MNIST(root= 'data', train= True, download= True, transform= transform)\n",
    "data_test = datasets.MNIST(root= 'data', train= False, download= True, transform= transform)"
   ]
  },
  {
   "cell_type": "code",
   "execution_count": 8,
   "metadata": {},
   "outputs": [
    {
     "data": {
      "text/plain": [
       "(12000, 48000)"
      ]
     },
     "execution_count": 8,
     "metadata": {},
     "output_type": "execute_result"
    }
   ],
   "source": [
    "# Select training samples that are used for validation\n",
    "\n",
    "num_train = len(data_train)\n",
    "indices = list(range(num_train))\n",
    "\n",
    "np.random.shuffle(indices)\n",
    "ix2split = int(valid_size * num_train)\n",
    "\n",
    "ix_valid, ix_train = indices[:ix2split], indices[ix2split:]\n",
    "len(ix_valid), len(ix_train)"
   ]
  },
  {
   "cell_type": "code",
   "execution_count": 9,
   "metadata": {},
   "outputs": [],
   "source": [
    "# Define samplers for obtaining training and validation batches\n",
    "sampler_train = SubsetRandomSampler(ix_train)\n",
    "sampler_valid = SubsetRandomSampler(ix_valid)\n",
    "\n",
    "loader_train = torch.utils.data.DataLoader(data_train, batch_size= batch_size,\n",
    "                                           sampler= sampler_train, num_workers= n_workers)\n",
    "\n",
    "loader_valid = torch.utils.data.DataLoader(data_train, batch_size= batch_size,\n",
    "                                           sampler= sampler_valid, num_workers= n_workers)\n",
    "\n",
    "loader_test = torch.utils.data.DataLoader(data_test, batch_size= batch_size, num_workers= n_workers)"
   ]
  },
  {
   "cell_type": "markdown",
   "metadata": {},
   "source": [
    "## Define the Network Architecture"
   ]
  },
  {
   "cell_type": "code",
   "execution_count": 10,
   "metadata": {},
   "outputs": [],
   "source": [
    "class Net(nn.Module):\n",
    "    \"\"\"Three layer NN for detecting MNIST digits.\"\"\"\n",
    "    \n",
    "    def __init__(self):\n",
    "        super(Net, self).__init__()\n",
    "        # Set the number of nodes in \n",
    "        hidden1 = 512\n",
    "        hidden2 = 512\n",
    "\n",
    "        # Input is a 28 x 28 gray-scale image:\n",
    "        self.fc1 = nn.Linear(28 * 28, hidden1)\n",
    "        self.fc2 = nn.Linear(hidden1, hidden2)\n",
    "        self.fc3 = nn.Linear(hidden2, 10) # output has 10 classes\n",
    "        # Kill 20% of the nodes in hidden units when training\n",
    "        self.dropout = nn.Dropout(.2)\n",
    "        \n",
    "    def forward(self, x):\n",
    "        \"\"\"Run the Forward Pass.\"\"\"\n",
    "        # Flatten the input image\n",
    "        x = x.view(-1, 28 * 28)\n",
    "        # First hidden layer\n",
    "        x = F.relu(self.fc1(x))\n",
    "        # Second hidden layer\n",
    "        x = F.relu(self.fc2(x))\n",
    "        # Output layer\n",
    "        # No need to apply activation function here\n",
    "        # Because our choice of loss function - categorical cross-entropy\n",
    "        ##will also perform the log-softmax before applying NLLL\n",
    "        x = self.fc3(x)\n",
    "\n",
    "        return x"
   ]
  },
  {
   "cell_type": "code",
   "execution_count": 11,
   "metadata": {},
   "outputs": [
    {
     "name": "stdout",
     "output_type": "stream",
     "text": [
      "Net(\n",
      "  (fc1): Linear(in_features=784, out_features=512, bias=True)\n",
      "  (fc2): Linear(in_features=512, out_features=512, bias=True)\n",
      "  (fc3): Linear(in_features=512, out_features=10, bias=True)\n",
      "  (dropout): Dropout(p=0.2)\n",
      ")\n"
     ]
    }
   ],
   "source": [
    "# Initialize the model\n",
    "model = Net()\n",
    "\n",
    "# Print out the model to check the configuration\n",
    "print(model)"
   ]
  },
  {
   "cell_type": "markdown",
   "metadata": {},
   "source": [
    "## Specify Loss Function and Optimizer"
   ]
  },
  {
   "cell_type": "markdown",
   "metadata": {},
   "source": [
    "It's recommended to use __cross-entropy loss__ for __classification tasks__.   \n",
    "\n",
    "Note: PyTorch's cross entropy function first applies a softmax funtion to the output layer and then calculates the log loss."
   ]
  },
  {
   "cell_type": "code",
   "execution_count": 12,
   "metadata": {},
   "outputs": [],
   "source": [
    "# Specify the loss function\n",
    "criterion = nn.CrossEntropyLoss()\n",
    "\n",
    "# Specify the optimizer\n",
    "optimizer = torch.optim.SGD(model.parameters(), lr = .03)"
   ]
  },
  {
   "cell_type": "code",
   "execution_count": null,
   "metadata": {},
   "outputs": [],
   "source": []
  },
  {
   "cell_type": "markdown",
   "metadata": {},
   "source": [
    "## Train the Network"
   ]
  },
  {
   "cell_type": "markdown",
   "metadata": {},
   "source": [
    "The typical steps for training/learning from a batch of data is as follows:\n",
    "\n",
    "1. Clear the gradients of all optimized variables\n",
    "2. Forward pass: make the prediction for a specific input\n",
    "3. Calculate the loss: how off is the prediction compared to the truth\n",
    "4. Backward pass: compute gradient of the loss with respect to model parameters\n",
    "5. Update the parameters: perform a single optimization step\n",
    "6. Update average training loss"
   ]
  },
  {
   "cell_type": "code",
   "execution_count": 13,
   "metadata": {},
   "outputs": [],
   "source": [
    "n_epochs = 40\n",
    "\n",
    "# Initialize tracker for validation loss\n",
    "# The idea is to have an \"early stopping\" strategy\n",
    "# That is, when the validation set loss starts to increase\n",
    "# It is a sign that our network starts to overfit\n",
    "# Ergo, we stop training further. Because we are interested\n",
    "# in generalization power of our algorithm.\n",
    "\n",
    "loss_valid_min = np.Inf "
   ]
  },
  {
   "cell_type": "code",
   "execution_count": 14,
   "metadata": {},
   "outputs": [
    {
     "name": "stdout",
     "output_type": "stream",
     "text": [
      "Epoch: 1 \tTraining Loss: 0.641604 \tValidation Loss: 0.293212\n",
      "Validation loss decreased (inf --> 0.293212).\n",
      "Saving model...\n",
      "\n",
      "Epoch: 2 \tTraining Loss: 0.259329 \tValidation Loss: 0.213821\n",
      "Validation loss decreased (0.293212 --> 0.213821).\n",
      "Saving model...\n",
      "\n",
      "Epoch: 3 \tTraining Loss: 0.191226 \tValidation Loss: 0.170277\n",
      "Validation loss decreased (0.213821 --> 0.170277).\n",
      "Saving model...\n",
      "\n",
      "Epoch: 4 \tTraining Loss: 0.148951 \tValidation Loss: 0.144030\n",
      "Validation loss decreased (0.170277 --> 0.144030).\n",
      "Saving model...\n",
      "\n",
      "Epoch: 5 \tTraining Loss: 0.120475 \tValidation Loss: 0.121367\n",
      "Validation loss decreased (0.144030 --> 0.121367).\n",
      "Saving model...\n",
      "\n",
      "Epoch: 6 \tTraining Loss: 0.099822 \tValidation Loss: 0.110515\n",
      "Validation loss decreased (0.121367 --> 0.110515).\n",
      "Saving model...\n",
      "\n",
      "Epoch: 7 \tTraining Loss: 0.084187 \tValidation Loss: 0.096659\n",
      "Validation loss decreased (0.110515 --> 0.096659).\n",
      "Saving model...\n",
      "\n",
      "Epoch: 8 \tTraining Loss: 0.071689 \tValidation Loss: 0.089653\n",
      "Validation loss decreased (0.096659 --> 0.089653).\n",
      "Saving model...\n",
      "\n",
      "Epoch: 9 \tTraining Loss: 0.061023 \tValidation Loss: 0.093226\n",
      "Epoch: 10 \tTraining Loss: 0.052845 \tValidation Loss: 0.083610\n",
      "Validation loss decreased (0.089653 --> 0.083610).\n",
      "Saving model...\n",
      "\n",
      "Epoch: 11 \tTraining Loss: 0.045371 \tValidation Loss: 0.080946\n",
      "Validation loss decreased (0.083610 --> 0.080946).\n",
      "Saving model...\n",
      "\n",
      "Epoch: 12 \tTraining Loss: 0.038640 \tValidation Loss: 0.078881\n",
      "Validation loss decreased (0.080946 --> 0.078881).\n",
      "Saving model...\n",
      "\n",
      "Epoch: 13 \tTraining Loss: 0.034624 \tValidation Loss: 0.079256\n",
      "Epoch: 14 \tTraining Loss: 0.029711 \tValidation Loss: 0.077643\n",
      "Validation loss decreased (0.078881 --> 0.077643).\n",
      "Saving model...\n",
      "\n",
      "Epoch: 15 \tTraining Loss: 0.025279 \tValidation Loss: 0.080628\n",
      "Epoch: 16 \tTraining Loss: 0.021652 \tValidation Loss: 0.077580\n",
      "Validation loss decreased (0.077643 --> 0.077580).\n",
      "Saving model...\n",
      "\n",
      "Epoch: 17 \tTraining Loss: 0.019203 \tValidation Loss: 0.073872\n",
      "Validation loss decreased (0.077580 --> 0.073872).\n",
      "Saving model...\n",
      "\n",
      "Epoch: 18 \tTraining Loss: 0.016646 \tValidation Loss: 0.077547\n",
      "Epoch: 19 \tTraining Loss: 0.014815 \tValidation Loss: 0.073934\n",
      "Epoch: 20 \tTraining Loss: 0.012515 \tValidation Loss: 0.078017\n",
      "Epoch: 21 \tTraining Loss: 0.010932 \tValidation Loss: 0.075666\n",
      "Epoch: 22 \tTraining Loss: 0.009147 \tValidation Loss: 0.077631\n",
      "Epoch: 23 \tTraining Loss: 0.008310 \tValidation Loss: 0.073948\n",
      "Epoch: 24 \tTraining Loss: 0.007189 \tValidation Loss: 0.077708\n",
      "Epoch: 25 \tTraining Loss: 0.006385 \tValidation Loss: 0.075839\n",
      "Epoch: 26 \tTraining Loss: 0.005596 \tValidation Loss: 0.076738\n",
      "Epoch: 27 \tTraining Loss: 0.004997 \tValidation Loss: 0.079505\n",
      "Epoch: 28 \tTraining Loss: 0.004483 \tValidation Loss: 0.077623\n",
      "Epoch: 29 \tTraining Loss: 0.004094 \tValidation Loss: 0.077661\n",
      "Epoch: 30 \tTraining Loss: 0.003626 \tValidation Loss: 0.077999\n",
      "Epoch: 31 \tTraining Loss: 0.003315 \tValidation Loss: 0.079028\n",
      "Epoch: 32 \tTraining Loss: 0.003035 \tValidation Loss: 0.080346\n",
      "Epoch: 33 \tTraining Loss: 0.002802 \tValidation Loss: 0.080935\n",
      "Epoch: 34 \tTraining Loss: 0.002655 \tValidation Loss: 0.080183\n",
      "Epoch: 35 \tTraining Loss: 0.002421 \tValidation Loss: 0.081884\n",
      "Epoch: 36 \tTraining Loss: 0.002294 \tValidation Loss: 0.082320\n",
      "Epoch: 37 \tTraining Loss: 0.002109 \tValidation Loss: 0.082219\n",
      "Epoch: 38 \tTraining Loss: 0.001985 \tValidation Loss: 0.083075\n",
      "Epoch: 39 \tTraining Loss: 0.001888 \tValidation Loss: 0.082749\n",
      "Epoch: 40 \tTraining Loss: 0.001785 \tValidation Loss: 0.083246\n"
     ]
    }
   ],
   "source": [
    "training_loss = []\n",
    "validation_loss = []\n",
    "\n",
    "for e in range(n_epochs):\n",
    "    loss_train = 0\n",
    "    loss_valid = 0\n",
    "    \n",
    "    # training phase =============================\n",
    "    # Prep the model for training phase\n",
    "    model.train()\n",
    "    for data, target in loader_train:\n",
    "        # Run the workflow for a batch of training -- 6 steps specified above:\n",
    "        optimizer.zero_grad()\n",
    "        out = model(data)\n",
    "        loss = criterion(out, target)\n",
    "        loss.backward()\n",
    "        optimizer.step()\n",
    "        \n",
    "        loss_train += loss.item() * data.size(0)\n",
    "        \n",
    "    # validation phase ===========================\n",
    "    # Prep the model for evaluation phase.\n",
    "    # this for example, deactivates the dropout layer.\n",
    "    model.eval()\n",
    "    \n",
    "    for data, target in loader_valid:\n",
    "        out = model(data)\n",
    "        loss = criterion(out, target)\n",
    "        loss_valid += loss.item() * data.size(0)\n",
    "        \n",
    "    # Calculate average loss over an epoch\n",
    "    loss_train = loss_train / len(loader_train.sampler)\n",
    "    loss_valid = loss_valid / len(loader_valid.sampler)\n",
    "    \n",
    "    training_loss.append(loss_train)\n",
    "    validation_loss.append(loss_valid)\n",
    "        \n",
    "    print('Epoch: {} \\tTraining Loss: {:.6f} \\tValidation Loss: {:.6f}'.format(\n",
    "        e + 1, loss_train, loss_valid))\n",
    "    \n",
    "    # save model if validation loss has decreased\n",
    "    if loss_valid < loss_valid_min:\n",
    "        print('Validation loss decreased ({:.6f} --> {:.6f}).'.format(\n",
    "        loss_valid_min,  loss_valid))\n",
    "        print('Saving model...\\n')\n",
    "        torch.save(model.state_dict(), 'model.pt')\n",
    "        loss_valid_min = loss_valid\n"
   ]
  },
  {
   "cell_type": "code",
   "execution_count": 15,
   "metadata": {},
   "outputs": [
    {
     "data": {
      "text/plain": [
       "<matplotlib.legend.Legend at 0x7f944c3e0da0>"
      ]
     },
     "execution_count": 15,
     "metadata": {},
     "output_type": "execute_result"
    },
    {
     "data": {
      "image/png": "[encoded data removed]",
      "text/plain": [
       "<matplotlib.figure.Figure at 0x7f9450600b00>"
      ]
     },
     "metadata": {
      "needs_background": "light"
     },
     "output_type": "display_data"
    }
   ],
   "source": [
    "plt.figure(figsize= (9, 5))\n",
    "plt.plot(training_loss, label= 'training error')\n",
    "plt.plot(validation_loss, label= 'validation error')\n",
    "plt.xlabel('number of iteration')\n",
    "plt.ylabel('loss')\n",
    "plt.legend()"
   ]
  },
  {
   "cell_type": "markdown",
   "metadata": {},
   "source": [
    "As you see, _epoch 17_ is where the __validation loss__ is at minimum. All the other iterations after that, do not help the generalization power of this particular network. As a result, we can simply use the model at that iteration, which we've saved."
   ]
  },
  {
   "cell_type": "markdown",
   "metadata": {},
   "source": [
    "### Load the Model with the Lowest Validation Loss"
   ]
  },
  {
   "cell_type": "code",
   "execution_count": 16,
   "metadata": {},
   "outputs": [],
   "source": [
    "model.load_state_dict(torch.load('model.pt'))"
   ]
  },
  {
   "cell_type": "code",
   "execution_count": null,
   "metadata": {},
   "outputs": [],
   "source": []
  },
  {
   "cell_type": "markdown",
   "metadata": {},
   "source": [
    "## Test the Trained Network"
   ]
  },
  {
   "cell_type": "code",
   "execution_count": 17,
   "metadata": {},
   "outputs": [],
   "source": [
    "# initialize lists to monitor test loss and accuracy\n",
    "loss_test = 0.0\n",
    "class_correct = list(0. for i in range(10))\n",
    "class_total = list(0. for i in range(10))\n",
    "\n",
    "# prep model for evaluation\n",
    "model.eval()\n",
    "\n",
    "for data, target in loader_test:\n",
    "    # forward pass: compute predicted outputs by passing inputs to the model\n",
    "    out = model(data)\n",
    "    loss = criterion(out, target)\n",
    "    # update test loss \n",
    "    loss_test += loss.item() * data.size(0)\n",
    "    \n",
    "    # convert output probabilities to predicted class\n",
    "    _, pred = torch.max(out, 1)\n",
    "    # compare predictions to true label\n",
    "    correct = np.squeeze(pred.eq(target.data.view_as(pred)))\n",
    "    \n",
    "    # calculate test accuracy for each object class\n",
    "    # Note that not enough samples may be left for the last batch\n",
    "    # Specifically: len(data_test) % 32 => 16\n",
    "    for i in range(len(target)):\n",
    "        label = target.data[i]\n",
    "        class_correct[label] += correct[i].item()\n",
    "        class_total[label] += 1"
   ]
  },
  {
   "cell_type": "code",
   "execution_count": 18,
   "metadata": {},
   "outputs": [
    {
     "name": "stdout",
     "output_type": "stream",
     "text": [
      "Test Loss: 0.070145\n",
      "\n",
      "\n",
      "Test Accuracy (Overall): 97% (9788/10000)\n"
     ]
    }
   ],
   "source": [
    "# calculate and print avg test loss\n",
    "loss_test = loss_test / len(loader_test.dataset)\n",
    "print('Test Loss: {:.6f}\\n'.format(loss_test))\n",
    "\n",
    "print('\\nTest Accuracy (Overall): %2d%% (%2d/%2d)' % (\n",
    "    100. * np.sum(class_correct) / np.sum(class_total),\n",
    "    np.sum(class_correct), np.sum(class_total)))"
   ]
  },
  {
   "cell_type": "code",
   "execution_count": 19,
   "metadata": {},
   "outputs": [],
   "source": [
    "# calculate the accuracy for each class\n",
    "acc = [round(match/total, 2) for match, total in zip(class_correct, class_total)]"
   ]
  },
  {
   "cell_type": "code",
   "execution_count": 20,
   "metadata": {},
   "outputs": [
    {
     "data": {
      "image/png": "[encoded data removed]",
      "text/plain": [
       "<matplotlib.figure.Figure at 0x7f944c3637f0>"
      ]
     },
     "metadata": {
      "needs_background": "light"
     },
     "output_type": "display_data"
    }
   ],
   "source": [
    "plt.figure(figsize= (12, 8))\n",
    "labels = list(range(len(acc)))\n",
    "line = plt.bar(labels, acc)\n",
    "plt.xticks(labels)\n",
    "plt.xlabel('Class')\n",
    "plt.ylabel('Accuracy')\n",
    "plt.title('Test Set Accuracy for Each Class')\n",
    "\n",
    "for i in range(len(acc)):\n",
    "    plt.annotate(str(acc[i]), xy=(labels[i], acc[i]), ha='center', va='bottom')"
   ]
  },
  {
   "cell_type": "markdown",
   "metadata": {},
   "source": [
    "## Visualize Sample Test Results"
   ]
  },
  {
   "cell_type": "code",
   "execution_count": null,
   "metadata": {},
   "outputs": [],
   "source": []
  },
  {
   "cell_type": "code",
   "execution_count": 21,
   "metadata": {},
   "outputs": [
    {
     "data": {
      "text/plain": [
       "''"
      ]
     },
     "execution_count": 21,
     "metadata": {},
     "output_type": "execute_result"
    },
    {
     "data": {
      "image/png": "[encoded data removed]",
      "text/plain": [
       "<matplotlib.figure.Figure at 0x7f944c2e4ef0>"
      ]
     },
     "metadata": {},
     "output_type": "display_data"
    }
   ],
   "source": [
    "# obtain one batch of test images\n",
    "dataiter = iter(loader_test)\n",
    "images, labels = dataiter.next()\n",
    "\n",
    "# get sample outputs\n",
    "output = model(images)\n",
    "# convert output probabilities to predicted class\n",
    "_, preds = torch.max(output, 1)\n",
    "# prep images for display\n",
    "images = images.numpy()\n",
    "\n",
    "# plot the images in the batch, along with predicted and true labels\n",
    "fig = plt.figure(figsize=(25, 4))\n",
    "\n",
    "num_samples = len(labels)\n",
    "num_rows = 2\n",
    "for ix in range(num_samples):\n",
    "    ax = fig.add_subplot(num_rows, num_samples / num_rows, ix+1, xticks=[], yticks=[])\n",
    "    ax.imshow(np.squeeze(images[ix]), cmap='gray')\n",
    "    ax.set_title('{} ({})'.format(str(preds[ix].item()), str(labels[ix].item())),\n",
    "                 color=('green' if preds[ix]==labels[ix] else 'red'))\n",
    "\n",
    "fig.text(.5, .05, 'Format: predicted(ground_truth) | red: misclassified',\n",
    "         ha='right', fontsize= 24)\n",
    ";"
   ]
  },
  {
   "cell_type": "code",
   "execution_count": null,
   "metadata": {},
   "outputs": [],
   "source": []
  }
 ],
 "metadata": {
  "kernelspec": {
   "display_name": "Python 3",
   "language": "python",
   "name": "python3"
  },
  "language_info": {
   "codemirror_mode": {
    "name": "ipython",
    "version": 3
   },
   "file_extension": ".py",
   "mimetype": "text/x-python",
   "name": "python",
   "nbconvert_exporter": "python",
   "pygments_lexer": "ipython3",
   "version": "3.6.3"
  }
 },
 "nbformat": 4,
 "nbformat_minor": 2
}
