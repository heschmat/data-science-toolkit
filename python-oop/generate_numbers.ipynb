{
 "cells": [
  {
   "cell_type": "code",
   "execution_count": 1,
   "id": "boxed-yesterday",
   "metadata": {},
   "outputs": [],
   "source": [
    "import random"
   ]
  },
  {
   "cell_type": "code",
   "execution_count": null,
   "id": "registered-bread",
   "metadata": {},
   "outputs": [],
   "source": []
  },
  {
   "cell_type": "code",
   "execution_count": 2,
   "id": "processed-joining",
   "metadata": {},
   "outputs": [],
   "source": [
    "# Read the files with the numbers in it:\n",
    "with open('numbers_norm_noclean.txt', 'r') as f:\n",
    "    lines = f.readlines()"
   ]
  },
  {
   "cell_type": "code",
   "execution_count": 3,
   "id": "illegal-slovenia",
   "metadata": {},
   "outputs": [
    {
     "data": {
      "text/plain": [
       "85"
      ]
     },
     "execution_count": 3,
     "metadata": {},
     "output_type": "execute_result"
    }
   ],
   "source": [
    "len(lines)"
   ]
  },
  {
   "cell_type": "code",
   "execution_count": 4,
   "id": "measured-people",
   "metadata": {},
   "outputs": [
    {
     "data": {
      "text/plain": [
       "['14.2, 12.6, 6.9, 12.6, 10.8, 12.4, 9.4, 14.9, 7.7, 15.7, 11.5, \\n',\n",
       " '8.9, 4.9, 10, 8.3, 5.6, 11.5, 3.5, 10.6, 12.8, 13.3, 4.5, 9, \\n',\n",
       " '8.7, 9.7, 11.6, 10.2, 10.9, 14, 7.3, 10.2, 9.3, 11, 11.7, 7.9, \\n']"
      ]
     },
     "execution_count": 4,
     "metadata": {},
     "output_type": "execute_result"
    }
   ],
   "source": [
    "# The file has 85 lines, \n",
    "# Each line being a string of numbers\n",
    "lines[:3]"
   ]
  },
  {
   "cell_type": "code",
   "execution_count": 5,
   "id": "stupid-grenada",
   "metadata": {},
   "outputs": [
    {
     "data": {
      "text/plain": [
       "[['14.2',\n",
       "  '12.6',\n",
       "  '6.9',\n",
       "  '12.6',\n",
       "  '10.8',\n",
       "  '12.4',\n",
       "  '9.4',\n",
       "  '14.9',\n",
       "  '7.7',\n",
       "  '15.7',\n",
       "  '11.5',\n",
       "  '\\n'],\n",
       " ['8.9',\n",
       "  '4.9',\n",
       "  '10',\n",
       "  '8.3',\n",
       "  '5.6',\n",
       "  '11.5',\n",
       "  '3.5',\n",
       "  '10.6',\n",
       "  '12.8',\n",
       "  '13.3',\n",
       "  '4.5',\n",
       "  '9',\n",
       "  '\\n']]"
      ]
     },
     "execution_count": 5,
     "metadata": {},
     "output_type": "execute_result"
    }
   ],
   "source": [
    "# Get the numbers from string, which gives us a nestd list\n",
    "numbers_nested = [line.split(', ') for line in lines]\n",
    "numbers_nested[:2]"
   ]
  },
  {
   "cell_type": "code",
   "execution_count": 6,
   "id": "commercial-restoration",
   "metadata": {},
   "outputs": [
    {
     "data": {
      "text/plain": [
       "['14.2', '12.6', '6.9', '12.6', '10.8', '12.4', '9.4', '14.9', '7.7', '15.7']"
      ]
     },
     "execution_count": 6,
     "metadata": {},
     "output_type": "execute_result"
    }
   ],
   "source": [
    "# Flatten the (nestd) list of numbers\n",
    "##and filter out the EOL character\n",
    "numbers = [n for line in numbers_nested for n in line if n != '\\n']\n",
    "numbers[:10]"
   ]
  },
  {
   "cell_type": "code",
   "execution_count": 7,
   "id": "resistant-march",
   "metadata": {},
   "outputs": [
    {
     "data": {
      "text/plain": [
       "1000"
      ]
     },
     "execution_count": 7,
     "metadata": {},
     "output_type": "execute_result"
    }
   ],
   "source": [
    "# Populatioin size is 1000 numbers \n",
    "len(numbers)"
   ]
  },
  {
   "cell_type": "code",
   "execution_count": 8,
   "id": "large-feature",
   "metadata": {},
   "outputs": [],
   "source": [
    "# Write the numbers in a txt file, one number per line\n",
    "with open('normal_population.txt', 'w') as f:\n",
    "    f.write('\\n'.join(numbers))"
   ]
  },
  {
   "cell_type": "code",
   "execution_count": null,
   "id": "fluid-wrist",
   "metadata": {},
   "outputs": [],
   "source": []
  },
  {
   "cell_type": "code",
   "execution_count": 9,
   "id": "similar-brown",
   "metadata": {},
   "outputs": [
    {
     "data": {
      "text/plain": [
       "['8.3', '10.1', '6.9', '6.5', '8.2', '10.4', '13.8', '10.2', '10.2', '7.8']"
      ]
     },
     "execution_count": 9,
     "metadata": {},
     "output_type": "execute_result"
    }
   ],
   "source": [
    "# Get a sample size of 100 from the population\n",
    "random.seed(14)\n",
    "\n",
    "numbers_sample = random.sample(numbers, 100)\n",
    "\n",
    "numbers_sample[:10]"
   ]
  },
  {
   "cell_type": "code",
   "execution_count": 10,
   "id": "surface-discipline",
   "metadata": {},
   "outputs": [],
   "source": [
    "# Write the sample numbers to a file of proper format:\n",
    "##one number per line\n",
    "with open('normal_sample.txt', 'w') as f:\n",
    "    f.write('\\n'.join(numbers))"
   ]
  },
  {
   "cell_type": "code",
   "execution_count": null,
   "id": "still-reverse",
   "metadata": {},
   "outputs": [],
   "source": []
  }
 ],
 "metadata": {
  "kernelspec": {
   "display_name": "Python 3",
   "language": "python",
   "name": "python3"
  },
  "language_info": {
   "codemirror_mode": {
    "name": "ipython",
    "version": 3
   },
   "file_extension": ".py",
   "mimetype": "text/x-python",
   "name": "python",
   "nbconvert_exporter": "python",
   "pygments_lexer": "ipython3",
   "version": "3.8.5"
  }
 },
 "nbformat": 4,
 "nbformat_minor": 5
}
